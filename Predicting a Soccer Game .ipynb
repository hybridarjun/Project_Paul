{
 "cells": [
  {
   "cell_type": "markdown",
   "metadata": {
    "slideshow": {
     "slide_type": "slide"
    }
   },
   "source": [
    "# Predicting the Result of a soccer match\n",
    "\n",
    "I love soccer and I know a lot of data is involved in a game. So I wanted to see if I could predict the outcome of a match using a machine learning algorithm. I will be predicting premier league matches for the top 6 teams\n",
    "\n",
    "To apply machine learning algorithm I would need to do a few steps before that. All the steps I will be doing are listed below."
   ]
  },
  {
   "cell_type": "markdown",
   "metadata": {
    "slideshow": {
     "slide_type": "slide"
    }
   },
   "source": [
    "## Steps\n",
    "### 1. Collection Data \n",
    "### 2. Wrangling Data \n",
    "### 3. Analysing Data\n",
    "### 4. Predicting the outcomde"
   ]
  },
  {
   "cell_type": "markdown",
   "metadata": {
    "slideshow": {
     "slide_type": "slide"
    }
   },
   "source": [
    "## 1. Collecting Data \n",
    "\n",
    "The data was collected from kaggle.\n",
    "I found 4 seasons worth of data of from kaggle.\n",
    "Each season had two files in json format. A single row from two files for 1 season is shown below"
   ]
  },
  {
   "cell_type": "code",
   "execution_count": 115,
   "metadata": {
    "slideshow": {
     "slide_type": "subslide"
    }
   },
   "outputs": [
    {
     "name": "stdout",
     "output_type": "stream",
     "text": [
      "{'home_team_id': '13', 'away_team_id': '162', 'home_team_name': 'Arsenal', 'away_team_name': 'Crystal Palace', 'date_string': '16/08/2014 17:30:00', 'half_time_score': '1 : 1', 'full_time_score': '2 : 1'}\n"
     ]
    }
   ],
   "source": [
    "import json\n",
    "# So the file has basic data for a particural team. This file does not contain most of the data\n",
    "with open('datafile/season14-15/season_match_stats.json', 'r') as in_file:\n",
    "            match_data = json.load(in_file)\n",
    "        \n",
    "for match_id in match_data:\n",
    "    print(match_data[line])\n",
    "    break\n"
   ]
  },
  {
   "cell_type": "code",
   "execution_count": 116,
   "metadata": {
    "slideshow": {
     "slide_type": "subslide"
    }
   },
   "outputs": [
    {
     "name": "stdout",
     "output_type": "stream",
     "text": [
      "{'13': {'team_details': {'team_id': '13', 'team_name': 'Arsenal', 'team_rating': '7.015', 'date': '16/08/2014'}, 'aggregate_stats': {'att_goal_low_left': '1', 'won_contest': '12', 'possession_percentage': '76', 'total_throws': '21', 'att_miss_high_left': '1', 'blocked_scoring_att': '3', 'total_scoring_att': '14', 'att_sv_low_left': '2', 'total_tackle': '26', 'att_miss_high_right': '1', 'aerial_won': '23', 'att_miss_right': '1', 'att_sv_low_centre': '1', 'aerial_lost': '17', 'accurate_pass': '640', 'total_pass': '730', 'won_corners': '9', 'shot_off_target': '5', 'ontarget_scoring_att': '6', 'goals': '2', 'att_miss_left': '2', 'fk_foul_lost': '13', 'att_sv_low_right': '1', 'att_goal_low_centre': '1'}, 'Player_stats': {'Wojciech Szczesny': {'player_details': {'player_id': '73379', 'player_name': 'Wojciech Szczesny', 'player_position_value': '1', 'player_position_info': 'GK', 'player_rating': '5.81'}, 'Match_stats': {'touches': '20', 'saves': '1', 'total_pass': '13', 'aerial_won': '1', 'formation_place': '1', 'accurate_pass': '11'}}, 'Calum Chambers': {'player_details': {'player_id': '124316', 'player_name': 'Calum Chambers', 'player_position_value': '2', 'player_position_info': 'DC', 'player_rating': '7.33'}, 'Match_stats': {'touches': '111', 'total_tackle': '4', 'aerial_lost': '2', 'total_pass': '93', 'fouls': '1', 'aerial_won': '2', 'formation_place': '5', 'accurate_pass': '86', 'yellow_card': '1'}}, 'Mathieu Debuchy': {'player_details': {'player_id': '11367', 'player_name': 'Mathieu Debuchy', 'player_position_value': '2', 'player_position_info': 'DR', 'player_rating': '7.39'}, 'Match_stats': {'touches': '92', 'total_tackle': '5', 'aerial_lost': '3', 'total_pass': '54', 'fouls': '2', 'aerial_won': '5', 'formation_place': '2', 'accurate_pass': '44', 'total_scoring_att': '1'}}, 'Kieran Gibbs': {'player_details': {'player_id': '27550', 'player_name': 'Kieran Gibbs', 'player_position_value': '2', 'player_position_info': 'DL', 'player_rating': '6.21'}, 'Match_stats': {'touches': '44', 'total_tackle': '1', 'fouls': '1', 'total_pass': '34', 'aerial_won': '1', 'formation_place': '3', 'accurate_pass': '26'}}, 'Laurent Koscielny': {'player_details': {'player_id': '30051', 'player_name': 'Laurent Koscielny', 'player_position_value': '2', 'player_position_info': 'DC', 'player_rating': '8.18'}, 'Match_stats': {'touches': '80', 'total_tackle': '2', 'aerial_lost': '1', 'man_of_the_match': '1', 'total_pass': '62', 'aerial_won': '2', 'formation_place': '6', 'accurate_pass': '60', 'total_scoring_att': '2', 'goals': '1'}}, 'Mikel Arteta': {'player_details': {'player_id': '1443', 'player_name': 'Mikel Arteta', 'player_position_value': '3', 'player_position_info': 'DMC', 'player_rating': '7.61'}, 'Match_stats': {'touches': '120', 'total_tackle': '4', 'aerial_lost': '2', 'total_pass': '105', 'fouls': '2', 'aerial_won': '3', 'formation_place': '4', 'accurate_pass': '100'}}, 'Santi Cazorla': {'player_details': {'player_id': '4522', 'player_name': 'Santi Cazorla', 'player_position_value': '3', 'player_position_info': 'ML', 'player_rating': '7.74'}, 'Match_stats': {'touches': '107', 'won_contest': '5', 'total_tackle': '1', 'aerial_lost': '1', 'total_pass': '78', 'fouls': '1', 'blocked_scoring_att': '1', 'formation_place': '11', 'accurate_pass': '69', 'total_scoring_att': '1', 'yellow_card': '1'}}, 'Alexis Sánchez': {'player_details': {'player_id': '25244', 'player_name': 'Alexis Sánchez', 'player_position_value': '3', 'player_position_info': 'MR', 'player_rating': '7.8'}, 'Match_stats': {'touches': '102', 'won_contest': '3', 'total_tackle': '3', 'aerial_lost': '1', 'total_pass': '59', 'fouls': '5', 'aerial_won': '2', 'formation_place': '7', 'accurate_pass': '47', 'total_scoring_att': '3', 'goal_assist': '1'}}, 'Aaron Ramsey': {'player_details': {'player_id': '26820', 'player_name': 'Aaron Ramsey', 'player_position_value': '3', 'player_position_info': 'MC', 'player_rating': '8.1'}, 'Match_stats': {'touches': '134', 'won_contest': '1', 'total_tackle': '5', 'aerial_lost': '3', 'total_pass': '106', 'blocked_scoring_att': '2', 'aerial_won': '3', 'formation_place': '8', 'accurate_pass': '92', 'total_scoring_att': '4', 'goals': '1'}}, 'Jack Wilshere': {'player_details': {'player_id': '42686', 'player_name': 'Jack Wilshere', 'player_position_value': '3', 'player_position_info': 'MC', 'player_rating': '6.53'}, 'Match_stats': {'touches': '69', 'total_tackle': '1', 'total_pass': '55', 'formation_place': '10', 'accurate_pass': '46', 'total_scoring_att': '1'}}, 'Yaya Sanogo': {'player_details': {'player_id': '83304', 'player_name': 'Yaya Sanogo', 'player_position_value': '4', 'player_position_info': 'FW', 'player_rating': '6.42'}, 'Match_stats': {'touches': '22', 'won_contest': '2', 'aerial_lost': '2', 'total_pass': '13', 'aerial_won': '1', 'formation_place': '9', 'accurate_pass': '8', 'total_scoring_att': '1'}}, 'Nacho Monreal': {'player_details': {'player_id': '23072', 'player_name': 'Nacho Monreal', 'player_position_value': '5', 'player_position_info': 'Sub', 'player_rating': '6.59'}, 'Match_stats': {'touches': '33', 'won_contest': '1', 'fouls': '1', 'total_pass': '26', 'aerial_won': '1', 'formation_place': '0', 'accurate_pass': '25'}}, 'Olivier Giroud': {'player_details': {'player_id': '24444', 'player_name': 'Olivier Giroud', 'player_position_value': '5', 'player_position_info': 'Sub', 'player_rating': '6.29'}, 'Match_stats': {'touches': '12', 'aerial_lost': '1', 'total_pass': '9', 'aerial_won': '1', 'formation_place': '0', 'accurate_pass': '7', 'total_scoring_att': '1'}}, 'Francis Coquelin': {'player_details': {'player_id': '69738', 'player_name': 'Francis Coquelin', 'player_position_value': '5', 'player_position_info': 'Sub', 'player_rating': '0'}, 'Match_stats': {'formation_place': '0'}}, 'Alex Oxlade Chamberlain': {'player_details': {'player_id': '84146', 'player_name': 'Alex Oxlade Chamberlain', 'player_position_value': '5', 'player_position_info': 'Sub', 'player_rating': '6.21'}, 'Match_stats': {'touches': '28', 'aerial_lost': '1', 'total_pass': '23', 'aerial_won': '1', 'formation_place': '0', 'accurate_pass': '19'}}, 'Emiliano Martínez': {'player_details': {'player_id': '102248', 'player_name': 'Emiliano Martínez', 'player_position_value': '5', 'player_position_info': 'Sub', 'player_rating': '0'}, 'Match_stats': {'formation_place': '0'}}, 'Tomas Rosicky': {'player_details': {'player_id': '845', 'player_name': 'Tomas Rosicky', 'player_position_value': '5', 'player_position_info': 'Sub', 'player_rating': '0'}, 'Match_stats': {'formation_place': '0'}}, 'Joel Campbell': {'player_details': {'player_id': '95977', 'player_name': 'Joel Campbell', 'player_position_value': '5', 'player_position_info': 'Sub', 'player_rating': '0'}, 'Match_stats': {'formation_place': '0'}}}}, '162': {'team_details': {'team_id': '162', 'team_name': 'Crystal Palace', 'team_rating': '6.62857142857143', 'date': '16/08/2014'}, 'aggregate_stats': {'won_corners': '3', 'fk_foul_lost': '19', 'won_contest': '7', 'total_tackle': '33', 'aerial_lost': '23', 'possession_percentage': '24', 'att_goal_low_left': '1', 'total_pass': '222', 'total_throws': '18', 'total_offside': '1', 'blocked_scoring_att': '2', 'ontarget_scoring_att': '2', 'aerial_won': '17', 'accurate_pass': '127', 'total_scoring_att': '4', 'att_sv_low_left': '1', 'goals': '1'}, 'Player_stats': {'Julian Speroni': {'player_details': {'player_id': '7895', 'player_name': 'Julian Speroni', 'player_position_value': '1', 'player_position_info': 'GK', 'player_rating': '6.26'}, 'Match_stats': {'good_high_claim': '2', 'touches': '35', 'saves': '4', 'total_pass': '29', 'formation_place': '1', 'accurate_pass': '7'}}, 'Joel Ward': {'player_details': {'player_id': '43105', 'player_name': 'Joel Ward', 'player_position_value': '2', 'player_position_info': 'DL', 'player_rating': '7.32'}, 'Match_stats': {'touches': '54', 'won_contest': '2', 'total_tackle': '5', 'aerial_lost': '3', 'total_pass': '14', 'aerial_won': '1', 'formation_place': '3', 'accurate_pass': '11'}}, 'Martin Kelly': {'player_details': {'player_id': '44687', 'player_name': 'Martin Kelly', 'player_position_value': '2', 'player_position_info': 'DR', 'player_rating': '6.75'}, 'Match_stats': {'touches': '44', 'won_contest': '1', 'total_tackle': '2', 'fouls': '1', 'total_pass': '13', 'aerial_won': '1', 'formation_place': '2', 'accurate_pass': '8', 'yellow_card': '1'}}, 'Scott Dann': {'player_details': {'player_id': '12124', 'player_name': 'Scott Dann', 'player_position_value': '2', 'player_position_info': 'DC', 'player_rating': '6.35'}, 'Match_stats': {'touches': '20', 'fouls': '1', 'total_pass': '12', 'aerial_won': '1', 'formation_place': '5', 'accurate_pass': '8'}}, 'Brede Hangeland': {'player_details': {'player_id': '3165', 'player_name': 'Brede Hangeland', 'player_position_value': '2', 'player_position_info': 'DC', 'player_rating': '7.38'}, 'Match_stats': {'touches': '24', 'total_tackle': '4', 'aerial_lost': '1', 'total_pass': '11', 'fouls': '2', 'aerial_won': '1', 'formation_place': '6', 'accurate_pass': '8', 'total_scoring_att': '1', 'goals': '1'}}, 'Joe Ledley': {'player_details': {'player_id': '11020', 'player_name': 'Joe Ledley', 'player_position_value': '3', 'player_position_info': 'MC', 'player_rating': '6.66'}, 'Match_stats': {'touches': '48', 'total_tackle': '3', 'aerial_lost': '5', 'total_pass': '27', 'aerial_won': '2', 'formation_place': '8', 'accurate_pass': '18'}}, 'Jason Puncheon': {'player_details': {'player_id': '9156', 'player_name': 'Jason Puncheon', 'player_position_value': '3', 'player_position_info': 'MR', 'player_rating': '6'}, 'Match_stats': {'touches': '27', 'won_contest': '1', 'fouls': '2', 'second_yellow': '1', 'total_pass': '18', 'blocked_scoring_att': '1', 'formation_place': '7', 'accurate_pass': '8', 'total_scoring_att': '2', 'goal_assist': '1', 'red_card': '1'}}, 'Yannick Bolasie': {'player_details': {'player_id': '69844', 'player_name': 'Yannick Bolasie', 'player_position_value': '3', 'player_position_info': 'ML', 'player_rating': '6.65'}, 'Match_stats': {'touches': '38', 'won_contest': '2', 'total_tackle': '5', 'aerial_lost': '2', 'total_pass': '10', 'fouls': '1', 'formation_place': '11', 'accurate_pass': '6'}}, 'Mile Jedinak': {'player_details': {'player_id': '13727', 'player_name': 'Mile Jedinak', 'player_position_value': '3', 'player_position_info': 'MC', 'player_rating': '7.94'}, 'Match_stats': {'touches': '59', 'total_tackle': '9', 'aerial_lost': '1', 'total_pass': '36', 'aerial_won': '3', 'formation_place': '4', 'accurate_pass': '19'}}, 'Marouane Chamakh': {'player_details': {'player_id': '6236', 'player_name': 'Marouane Chamakh', 'player_position_value': '4', 'player_position_info': 'AMC', 'player_rating': '7.38'}, 'Match_stats': {'touches': '58', 'won_contest': '1', 'total_tackle': '5', 'aerial_lost': '9', 'total_pass': '34', 'fouls': '11', 'blocked_scoring_att': '1', 'aerial_won': '7', 'formation_place': '10', 'accurate_pass': '20', 'total_scoring_att': '1', 'yellow_card': '1'}}, 'Fraizer Campbell': {'player_details': {'player_id': '29299', 'player_name': 'Fraizer Campbell', 'player_position_value': '4', 'player_position_info': 'FW', 'player_rating': '6.27'}, 'Match_stats': {'touches': '26', 'aerial_lost': '2', 'total_pass': '10', 'fouls': '1', 'aerial_won': '1', 'formation_place': '9', 'accurate_pass': '9'}}, 'Barry Bannan': {'player_details': {'player_id': '70100', 'player_name': 'Barry Bannan', 'player_position_value': '5', 'player_position_info': 'Sub', 'player_rating': '0'}, 'Match_stats': {'formation_place': '0'}}, 'Dwight Gayle': {'player_details': {'player_id': '118326', 'player_name': 'Dwight Gayle', 'player_position_value': '5', 'player_position_info': 'Sub', 'player_rating': '5.91'}, 'Match_stats': {'touches': '4', 'total_pass': '4', 'formation_place': '0', 'accurate_pass': '4'}}, \"Stuart O'Keefe\": {'player_details': {'player_id': '43458', 'player_name': \"Stuart O'Keefe\", 'player_position_value': '5', 'player_position_info': 'Sub', 'player_rating': '5.9'}, 'Match_stats': {'touches': '2', 'total_pass': '2', 'formation_place': '0', 'accurate_pass': '1'}}, 'Glenn Murray': {'player_details': {'player_id': '21427', 'player_name': 'Glenn Murray', 'player_position_value': '5', 'player_position_info': 'Sub', 'player_rating': '0'}, 'Match_stats': {'formation_place': '0'}}, 'Damien Delaney': {'player_details': {'player_id': '8466', 'player_name': 'Damien Delaney', 'player_position_value': '5', 'player_position_info': 'Sub', 'player_rating': '6.03'}, 'Match_stats': {'touches': '5', 'total_pass': '2', 'formation_place': '0'}}, 'Paddy McCarthy': {'player_details': {'player_id': '11668', 'player_name': 'Paddy McCarthy', 'player_position_value': '5', 'player_position_info': 'Sub', 'player_rating': '0'}, 'Match_stats': {'formation_place': '0'}}, 'Wayne Hennessey': {'player_details': {'player_id': '21571', 'player_name': 'Wayne Hennessey', 'player_position_value': '5', 'player_position_info': 'Sub', 'player_rating': '0'}, 'Match_stats': {'formation_place': '0'}}}}}\n"
     ]
    }
   ],
   "source": [
    "# This file contains all of the data, a sigle row has all the game events, like fouls and possesion.\n",
    "with open('datafile/season14-15/season_stats.json', 'r') as in_file:\n",
    "            match_stats = json.load(in_file)\n",
    "for match_id in match_stats:\n",
    "    print(match_stats[line])\n",
    "    break"
   ]
  },
  {
   "cell_type": "markdown",
   "metadata": {
    "slideshow": {
     "slide_type": "slide"
    }
   },
   "source": [
    "## 2. Wrangling Data \n",
    "\n",
    "So the data above is unstructured and is not so usefull for analysing.\n",
    "Therefore I did some wrangling with the data to produce a csv file. \n",
    "This file contains all the important features that I believe will be important in predicting the outcome.\n",
    "\n",
    "##### Important Note -:\n",
    "I added an extra column in the wrangled data, the extra column is \"result\". This column has three possible values -:\n",
    "1. 0 -> Team lost the match\n",
    "2. 1 -> The match was a draw\n",
    "3. 2 -> The team won the match\n"
   ]
  },
  {
   "cell_type": "code",
   "execution_count": 117,
   "metadata": {
    "slideshow": {
     "slide_type": "subslide"
    }
   },
   "outputs": [
    {
     "data": {
      "text/html": [
       "<div>\n",
       "<style scoped>\n",
       "    .dataframe tbody tr th:only-of-type {\n",
       "        vertical-align: middle;\n",
       "    }\n",
       "\n",
       "    .dataframe tbody tr th {\n",
       "        vertical-align: top;\n",
       "    }\n",
       "\n",
       "    .dataframe thead th {\n",
       "        text-align: right;\n",
       "    }\n",
       "</style>\n",
       "<table border=\"1\" class=\"dataframe\">\n",
       "  <thead>\n",
       "    <tr style=\"text-align: right;\">\n",
       "      <th></th>\n",
       "      <th>accurate_pass</th>\n",
       "      <th>corners</th>\n",
       "      <th>fouls</th>\n",
       "      <th>goals</th>\n",
       "      <th>possession</th>\n",
       "      <th>red_card</th>\n",
       "      <th>result</th>\n",
       "      <th>shots_off_target</th>\n",
       "      <th>total_offside</th>\n",
       "      <th>total_pass</th>\n",
       "      <th>total_tackle</th>\n",
       "    </tr>\n",
       "  </thead>\n",
       "  <tbody>\n",
       "    <tr>\n",
       "      <th>0</th>\n",
       "      <td>551</td>\n",
       "      <td>3</td>\n",
       "      <td>7</td>\n",
       "      <td>3</td>\n",
       "      <td>61.4</td>\n",
       "      <td>0</td>\n",
       "      <td>2</td>\n",
       "      <td>4</td>\n",
       "      <td>1</td>\n",
       "      <td>668</td>\n",
       "      <td>19</td>\n",
       "    </tr>\n",
       "    <tr>\n",
       "      <th>1</th>\n",
       "      <td>464</td>\n",
       "      <td>8</td>\n",
       "      <td>11</td>\n",
       "      <td>2</td>\n",
       "      <td>63.3</td>\n",
       "      <td>0</td>\n",
       "      <td>2</td>\n",
       "      <td>9</td>\n",
       "      <td>2</td>\n",
       "      <td>530</td>\n",
       "      <td>23</td>\n",
       "    </tr>\n",
       "    <tr>\n",
       "      <th>2</th>\n",
       "      <td>258</td>\n",
       "      <td>2</td>\n",
       "      <td>16</td>\n",
       "      <td>6</td>\n",
       "      <td>38.7</td>\n",
       "      <td>0</td>\n",
       "      <td>2</td>\n",
       "      <td>1</td>\n",
       "      <td>1</td>\n",
       "      <td>355</td>\n",
       "      <td>30</td>\n",
       "    </tr>\n",
       "    <tr>\n",
       "      <th>3</th>\n",
       "      <td>508</td>\n",
       "      <td>7</td>\n",
       "      <td>12</td>\n",
       "      <td>4</td>\n",
       "      <td>55.2</td>\n",
       "      <td>0</td>\n",
       "      <td>2</td>\n",
       "      <td>12</td>\n",
       "      <td>0</td>\n",
       "      <td>573</td>\n",
       "      <td>17</td>\n",
       "    </tr>\n",
       "    <tr>\n",
       "      <th>4</th>\n",
       "      <td>343</td>\n",
       "      <td>2</td>\n",
       "      <td>12</td>\n",
       "      <td>1</td>\n",
       "      <td>41.5</td>\n",
       "      <td>0</td>\n",
       "      <td>1</td>\n",
       "      <td>2</td>\n",
       "      <td>1</td>\n",
       "      <td>409</td>\n",
       "      <td>21</td>\n",
       "    </tr>\n",
       "  </tbody>\n",
       "</table>\n",
       "</div>"
      ],
      "text/plain": [
       "   accurate_pass  corners  fouls  goals  possession  red_card  result  \\\n",
       "0            551        3      7      3        61.4         0       2   \n",
       "1            464        8     11      2        63.3         0       2   \n",
       "2            258        2     16      6        38.7         0       2   \n",
       "3            508        7     12      4        55.2         0       2   \n",
       "4            343        2     12      1        41.5         0       1   \n",
       "\n",
       "   shots_off_target  total_offside  total_pass  total_tackle  \n",
       "0                 4              1         668            19  \n",
       "1                 9              2         530            23  \n",
       "2                 1              1         355            30  \n",
       "3                12              0         573            17  \n",
       "4                 2              1         409            21  "
      ]
     },
     "execution_count": 117,
     "metadata": {},
     "output_type": "execute_result"
    }
   ],
   "source": [
    "# I will display 5 rows of the wrangled data \n",
    "import pandas as pd\n",
    "data = pd.read_csv('wrangled_data.csv', usecols=range(1,12))\n",
    "data.head()"
   ]
  },
  {
   "cell_type": "markdown",
   "metadata": {
    "slideshow": {
     "slide_type": "subslide"
    }
   },
   "source": [
    "Now the data is more readable and useful. From now on we will be using this data."
   ]
  },
  {
   "cell_type": "markdown",
   "metadata": {
    "slideshow": {
     "slide_type": "slide"
    }
   },
   "source": [
    "## 3. Analysing Data \n",
    "\n",
    "Now I will try to analyse the data and see if I am able to find something of significane"
   ]
  },
  {
   "cell_type": "code",
   "execution_count": 118,
   "metadata": {
    "slideshow": {
     "slide_type": "subslide"
    }
   },
   "outputs": [
    {
     "data": {
      "image/png": "[encoded data removed]",
      "text/plain": [
       "<Figure size 432x288 with 1 Axes>"
      ]
     },
     "metadata": {
      "needs_background": "light"
     },
     "output_type": "display_data"
    }
   ],
   "source": [
    "# I am really interested in possesion so I want to see the possesion variability for the 3 possible outcomes \n",
    "import seaborn as sns\n",
    "ax = sns.boxplot(x=\"result\", y=\"possession\", data=data)\n"
   ]
  },
  {
   "cell_type": "code",
   "execution_count": 119,
   "metadata": {
    "slideshow": {
     "slide_type": "subslide"
    }
   },
   "outputs": [
    {
     "data": {
      "image/png": "[encoded data removed]",
      "text/plain": [
       "<Figure size 432x288 with 1 Axes>"
      ]
     },
     "metadata": {
      "needs_background": "light"
     },
     "output_type": "display_data"
    }
   ],
   "source": [
    "import seaborn as sns\n",
    "ax = sns.boxplot(x=\"result\", y=\"total_pass\", data=data)"
   ]
  },
  {
   "cell_type": "code",
   "execution_count": 120,
   "metadata": {
    "slideshow": {
     "slide_type": "subslide"
    }
   },
   "outputs": [
    {
     "data": {
      "image/png": "[encoded data removed]",
      "text/plain": [
       "<Figure size 432x288 with 1 Axes>"
      ]
     },
     "metadata": {
      "needs_background": "light"
     },
     "output_type": "display_data"
    }
   ],
   "source": [
    "import seaborn as sns\n",
    "ax = sns.boxplot(x=\"result\", y=\"shots_off_target\", data=data)"
   ]
  },
  {
   "cell_type": "code",
   "execution_count": 121,
   "metadata": {
    "slideshow": {
     "slide_type": "subslide"
    }
   },
   "outputs": [
    {
     "data": {
      "image/png": "[encoded data removed]",
      "text/plain": [
       "<Figure size 432x288 with 2 Axes>"
      ]
     },
     "metadata": {
      "needs_background": "light"
     },
     "output_type": "display_data"
    }
   ],
   "source": [
    "# Correlation Matrix \n",
    "corr = data_without_result.corr()\n",
    "ax = sns.heatmap(\n",
    "    corr, \n",
    "    vmin=-1, vmax=1, center=0,\n",
    "    cmap=sns.diverging_palette(20, 220, n=200),\n",
    "    square=True\n",
    ")"
   ]
  },
  {
   "cell_type": "code",
   "execution_count": 122,
   "metadata": {
    "slideshow": {
     "slide_type": "subslide"
    }
   },
   "outputs": [
    {
     "name": "stdout",
     "output_type": "stream",
     "text": [
      "Games win if red card 31.37%\n",
      "Games draw if red card 43.14%\n",
      "Games loss if red card 25.49%\n"
     ]
    }
   ],
   "source": [
    "data_red_card = data.loc[data['red_card'] >= 1]\n",
    "#data_red_card.loc[data_red_card['result'] == 2]\n",
    "loss_red_card = (len(data_red_card.loc[data_red_card['result'] == 1])/len(data_red_card))\n",
    "win_red_card = (len(data_red_card.loc[data_red_card['result'] == 2])/len(data_red_card))\n",
    "draw_red_card = (len(data_red_card.loc[data_red_card['result'] == 0])/len(data_red_card))\n",
    "print('Games win if red card {0:0.2f}%'.format(float(win_red_card)*100))\n",
    "print('Games draw if red card {0:0.2f}%'.format(float(draw_red_card)*100))\n",
    "print('Games loss if red card {0:0.2f}%'.format(float(loss_red_card)*100))"
   ]
  },
  {
   "cell_type": "markdown",
   "metadata": {
    "slideshow": {
     "slide_type": "slide"
    }
   },
   "source": [
    "## 3. Predicting  \n",
    "\n",
    "Now that i have completed the analysis I will apply at leat two machine learning algoritms to predict the outcome of a game\n"
   ]
  },
  {
   "cell_type": "code",
   "execution_count": 123,
   "metadata": {
    "slideshow": {
     "slide_type": "subslide"
    }
   },
   "outputs": [],
   "source": [
    "import numpy\n",
    "from sklearn.linear_model import LogisticRegression\n",
    "from sklearn.ensemble import RandomForestClassifier\n",
    "from sklearn import preprocessing\n",
    "data = data.sample(frac=1).reset_index(drop=True)\n",
    "X_train = data.drop('result',1).iloc[:901,:]\n",
    "X_test = data.drop('result',1).iloc[901:,:]\n",
    "y_train = data['result'].iloc[:901]\n",
    "y_test = data['result'].iloc[901:]"
   ]
  },
  {
   "cell_type": "code",
   "execution_count": 124,
   "metadata": {
    "slideshow": {
     "slide_type": "subslide"
    }
   },
   "outputs": [
    {
     "name": "stdout",
     "output_type": "stream",
     "text": [
      "           0         1         2\n",
      "0   0.012470  0.042432  0.945098\n",
      "1   0.009564  0.026429  0.964007\n",
      "2   0.001120  0.008107  0.990773\n",
      "3   0.005036  0.026287  0.968677\n",
      "4   0.267871  0.338495  0.393635\n",
      "5   0.521314  0.415834  0.062852\n",
      "6   0.374233  0.562595  0.063172\n",
      "7   0.649303  0.284936  0.065761\n",
      "8   0.486871  0.469190  0.043939\n",
      "9   0.509775  0.437081  0.053144\n",
      "10  0.010492  0.041380  0.948128\n",
      "0.5454545454545454\n"
     ]
    },
    {
     "name": "stderr",
     "output_type": "stream",
     "text": [
      "/Users/sarthakbabbar/anaconda3/lib/python3.7/site-packages/ipykernel_launcher.py:7: DataConversionWarning: Data with input dtype int64, float64 were all converted to float64 by StandardScaler.\n",
      "  import sys\n"
     ]
    }
   ],
   "source": [
    "\n",
    "def logistic_regression(X_train,y_train,X_test,y_test):\n",
    "    y_train = y_train.to_numpy()\n",
    "    X_train= X_train.to_numpy()\n",
    "    std_scale = preprocessing.StandardScaler().fit(X_train)\n",
    "    X_train = std_scale.transform(X_train)\n",
    "    X_test = std_scale.transform(X_test)\n",
    "    clf = LogisticRegression(random_state=0, solver='lbfgs', max_iter=300,\n",
    "                         multi_class='multinomial').fit(X_train, y_train)\n",
    "    print(pd.DataFrame(clf.predict_proba(X_test)))\n",
    "    print(clf.score(X_test, y_test))\n",
    "logistic_regression(X_train,y_train,X_test,y_test)"
   ]
  },
  {
   "cell_type": "code",
   "execution_count": 125,
   "metadata": {
    "slideshow": {
     "slide_type": "subslide"
    }
   },
   "outputs": [
    {
     "name": "stdout",
     "output_type": "stream",
     "text": [
      "       0     1     2\n",
      "0   0.01  0.18  0.81\n",
      "1   0.07  0.07  0.86\n",
      "2   0.04  0.02  0.94\n",
      "3   0.05  0.05  0.90\n",
      "4   0.23  0.17  0.60\n",
      "5   0.31  0.53  0.16\n",
      "6   0.47  0.42  0.11\n",
      "7   0.61  0.33  0.06\n",
      "8   0.64  0.34  0.02\n",
      "9   0.49  0.44  0.07\n",
      "10  0.01  0.05  0.94\n",
      "0.7272727272727273\n"
     ]
    },
    {
     "name": "stderr",
     "output_type": "stream",
     "text": [
      "/Users/sarthakbabbar/anaconda3/lib/python3.7/site-packages/ipykernel_launcher.py:6: DataConversionWarning: Data with input dtype int64, float64 were all converted to float64 by StandardScaler.\n",
      "  \n"
     ]
    }
   ],
   "source": [
    "def random_forest(X_train,y_train,X_test,y_test):\n",
    "    y_train = y_train.to_numpy()\n",
    "    X_train= X_train.to_numpy()\n",
    "    std_scale = preprocessing.StandardScaler().fit(X_train)\n",
    "    X_train = std_scale.transform(X_train)\n",
    "    X_test = std_scale.transform(X_test)\n",
    "    clf = RandomForestClassifier(n_estimators=100, max_depth=100,\n",
    "                             random_state=0)\n",
    "    clf.fit(X_train,y_train)\n",
    "    print(pd.DataFrame(clf.predict_proba(X_test)))\n",
    "    print(clf.score(X_test, y_test))\n",
    "random_forest(X_train,y_train,X_test,y_test)"
   ]
  }
 ],
 "metadata": {
  "celltoolbar": "Slideshow",
  "kernelspec": {
   "display_name": "Python 3",
   "language": "python",
   "name": "python3"
  },
  "language_info": {
   "codemirror_mode": {
    "name": "ipython",
    "version": 3
   },
   "file_extension": ".py",
   "mimetype": "text/x-python",
   "name": "python",
   "nbconvert_exporter": "python",
   "pygments_lexer": "ipython3",
   "version": "3.7.3"
  }
 },
 "nbformat": 4,
 "nbformat_minor": 2
}
